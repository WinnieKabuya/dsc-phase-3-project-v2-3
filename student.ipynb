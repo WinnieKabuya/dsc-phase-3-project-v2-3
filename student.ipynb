{
 "cells": [
  {
   "attachments": {},
   "cell_type": "markdown",
   "id": "ad140fd9",
   "metadata": {},
   "source": [
    "## **Loading the datasets**"
   ]
  },
  {
   "cell_type": "code",
   "execution_count": 13,
   "id": "8ace1efd",
   "metadata": {},
   "outputs": [],
   "source": [
    "# Dataset Exploration and Preparation\n",
    "import pandas as pd\n",
    "import numpy as np\n",
    "import matplotlib.pyplot as plt\n",
    "%matplotlib inline\n",
    "import seaborn as sns"
   ]
  },
  {
   "cell_type": "code",
   "execution_count": 25,
   "id": "ad3df730",
   "metadata": {},
   "outputs": [],
   "source": [
    "# Load the dataset\n",
    "df1= pd.read_csv('Test set values.csv')\n",
    "df2 = pd.read_csv('Training Set labels.csv')\n",
    "df3 = pd.read_csv('Training set Values.csv')"
   ]
  },
  {
   "attachments": {},
   "cell_type": "markdown",
   "id": "341f2336",
   "metadata": {},
   "source": [
    "## **Exploring the data**"
   ]
  },
  {
   "cell_type": "code",
   "execution_count": 26,
   "id": "5325e784",
   "metadata": {},
   "outputs": [],
   "source": [
    "# Explore the dataset# A function to print the shape of our datasets\n",
    "def print_dataset_shape(*datasets):\n",
    "    \"\"\"\n",
    "    Prints the shape of one or more datasets (number of rows and columns).\n",
    "    Assumes datasets are in a Pandas DataFrame format.\n",
    "    \"\"\"\n",
    "    for idx, dataset in enumerate(datasets):\n",
    "        print(f\"Dataset {idx + 1} - Number of rows: {dataset.shape[0]}\")\n",
    "        print(f\"Dataset {idx + 1} - Number of columns: {dataset.shape[1]}\")\n",
    "\n"
   ]
  },
  {
   "cell_type": "code",
   "execution_count": 27,
   "id": "a2b40055",
   "metadata": {},
   "outputs": [
    {
     "name": "stdout",
     "output_type": "stream",
     "text": [
      "Dataset 1 - Number of rows: 14850\n",
      "Dataset 1 - Number of columns: 40\n",
      "Dataset 2 - Number of rows: 59400\n",
      "Dataset 2 - Number of columns: 2\n",
      "Dataset 3 - Number of rows: 59400\n",
      "Dataset 3 - Number of columns: 40\n"
     ]
    }
   ],
   "source": [
    "# print the shape of our dataset\n",
    "print_dataset_shape(df1, df2,df3)"
   ]
  },
  {
   "cell_type": "code",
   "execution_count": 28,
   "id": "524977df",
   "metadata": {},
   "outputs": [
    {
     "name": "stdout",
     "output_type": "stream",
     "text": [
      "Head of DataFrame: DataFrame 1\n",
      "      id  amount_tsh date_recorded                  funder  gps_height  \\\n",
      "0  50785         0.0    2013-02-04                    Dmdd        1996   \n",
      "1  51630         0.0    2013-02-04  Government Of Tanzania        1569   \n",
      "2  17168         0.0    2013-02-01                     NaN        1567   \n",
      "3  45559         0.0    2013-01-22              Finn Water         267   \n",
      "4  49871       500.0    2013-03-27                  Bruder        1260   \n",
      "\n",
      "    installer  longitude   latitude                 wpt_name  num_private  \\\n",
      "0        DMDD  35.290799  -4.059696  Dinamu Secondary School            0   \n",
      "1         DWE  36.656709  -3.309214                  Kimnyak            0   \n",
      "2         NaN  34.767863  -5.004344           Puma Secondary            0   \n",
      "3  FINN WATER  38.058046  -9.418672           Kwa Mzee Pange            0   \n",
      "4      BRUDER  35.006123 -10.950412          Kwa Mzee Turuka            0   \n",
      "\n",
      "   ... payment_type water_quality quality_group      quantity  quantity_group  \\\n",
      "0  ...    never pay          soft          good      seasonal        seasonal   \n",
      "1  ...    never pay          soft          good  insufficient    insufficient   \n",
      "2  ...    never pay          soft          good  insufficient    insufficient   \n",
      "3  ...      unknown          soft          good           dry             dry   \n",
      "4  ...      monthly          soft          good        enough          enough   \n",
      "\n",
      "                 source           source_type  source_class  \\\n",
      "0  rainwater harvesting  rainwater harvesting       surface   \n",
      "1                spring                spring   groundwater   \n",
      "2  rainwater harvesting  rainwater harvesting       surface   \n",
      "3          shallow well          shallow well   groundwater   \n",
      "4                spring                spring   groundwater   \n",
      "\n",
      "      waterpoint_type waterpoint_type_group  \n",
      "0               other                 other  \n",
      "1  communal standpipe    communal standpipe  \n",
      "2               other                 other  \n",
      "3               other                 other  \n",
      "4  communal standpipe    communal standpipe  \n",
      "\n",
      "[5 rows x 40 columns]\n",
      "\n",
      "\n",
      "Head of DataFrame: DataFrame 2\n",
      "      id  amount_tsh date_recorded        funder  gps_height     installer  \\\n",
      "0  69572      6000.0    2011-03-14         Roman        1390         Roman   \n",
      "1   8776         0.0    2013-03-06       Grumeti        1399       GRUMETI   \n",
      "2  34310        25.0    2013-02-25  Lottery Club         686  World vision   \n",
      "3  67743         0.0    2013-01-28        Unicef         263        UNICEF   \n",
      "4  19728         0.0    2011-07-13   Action In A           0       Artisan   \n",
      "\n",
      "   longitude   latitude              wpt_name  num_private  ... payment_type  \\\n",
      "0  34.938093  -9.856322                  none            0  ...     annually   \n",
      "1  34.698766  -2.147466              Zahanati            0  ...    never pay   \n",
      "2  37.460664  -3.821329           Kwa Mahundi            0  ...   per bucket   \n",
      "3  38.486161 -11.155298  Zahanati Ya Nanyumbu            0  ...    never pay   \n",
      "4  31.130847  -1.825359               Shuleni            0  ...    never pay   \n",
      "\n",
      "  water_quality quality_group      quantity  quantity_group  \\\n",
      "0          soft          good        enough          enough   \n",
      "1          soft          good  insufficient    insufficient   \n",
      "2          soft          good        enough          enough   \n",
      "3          soft          good           dry             dry   \n",
      "4          soft          good      seasonal        seasonal   \n",
      "\n",
      "                 source           source_type  source_class  \\\n",
      "0                spring                spring   groundwater   \n",
      "1  rainwater harvesting  rainwater harvesting       surface   \n",
      "2                   dam                   dam       surface   \n",
      "3           machine dbh              borehole   groundwater   \n",
      "4  rainwater harvesting  rainwater harvesting       surface   \n",
      "\n",
      "               waterpoint_type waterpoint_type_group  \n",
      "0           communal standpipe    communal standpipe  \n",
      "1           communal standpipe    communal standpipe  \n",
      "2  communal standpipe multiple    communal standpipe  \n",
      "3  communal standpipe multiple    communal standpipe  \n",
      "4           communal standpipe    communal standpipe  \n",
      "\n",
      "[5 rows x 40 columns]\n",
      "\n",
      "\n"
     ]
    }
   ],
   "source": [
    "def display_dataframe_head(dataframes, num_rows=5):\n",
    "    for name, df in dataframes.items():\n",
    "        print(f\"Head of DataFrame: {name}\")\n",
    "        print(df.head(num_rows))\n",
    "        print(\"\\n\")\n",
    "\n",
    "dataframes = {\n",
    "    \"DataFrame 1\": df1,\n",
    "    \"DataFrame 2\": df2,\n",
    "    \"DataFrame 2\": df3\n",
    "}\n",
    "\n",
    "display_dataframe_head(dataframes, num_rows=5)\n"
   ]
  },
  {
   "cell_type": "code",
   "execution_count": null,
   "id": "5a1f01b5",
   "metadata": {},
   "outputs": [],
   "source": []
  }
 ],
 "metadata": {
  "kernelspec": {
   "display_name": "Python 3 (ipykernel)",
   "language": "python",
   "name": "python3"
  },
  "language_info": {
   "codemirror_mode": {
    "name": "ipython",
    "version": 3
   },
   "file_extension": ".py",
   "mimetype": "text/x-python",
   "name": "python",
   "nbconvert_exporter": "python",
   "pygments_lexer": "ipython3",
   "version": "3.8.5"
  }
 },
 "nbformat": 4,
 "nbformat_minor": 5
}
