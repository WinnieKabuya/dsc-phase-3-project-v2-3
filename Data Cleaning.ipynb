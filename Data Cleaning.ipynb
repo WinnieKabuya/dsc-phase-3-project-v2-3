{
 "cells": [
  {
   "cell_type": "markdown",
   "id": "ce8ee8dd",
   "metadata": {},
   "source": [
    "# FEATURE ENGINEERING"
   ]
  },
  {
   "cell_type": "code",
   "execution_count": 1,
   "id": "fccfdcf4",
   "metadata": {},
   "outputs": [],
   "source": [
    "# Import standard packages\n",
    "import pandas as pd\n",
    "import numpy as np\n",
    "import matplotlib.pyplot as plt\n",
    "%matplotlib inline\n",
    "import seaborn as sns"
   ]
  },
  {
   "cell_type": "code",
   "execution_count": 2,
   "id": "c7b3aa4d",
   "metadata": {},
   "outputs": [],
   "source": [
    "# Explore the dataset\n",
    "test_set_values = pd.read_csv('Test set values.csv')\n",
    "training_set_labels = pd.read_csv('Training Set labels.csv')\n",
    "training_set_values = pd.read_csv('Training set Values.csv')\n",
    "\n",
    "training_df = pd.merge(training_set_values, training_set_labels, on='id')"
   ]
  },
  {
   "cell_type": "code",
   "execution_count": 3,
   "id": "76762ee0",
   "metadata": {},
   "outputs": [
    {
     "data": {
      "text/plain": [
       "Index(['id', 'amount_tsh', 'date_recorded', 'funder', 'gps_height',\n",
       "       'installer', 'longitude', 'latitude', 'wpt_name', 'num_private',\n",
       "       'basin', 'subvillage', 'region', 'region_code', 'district_code', 'lga',\n",
       "       'ward', 'population', 'public_meeting', 'recorded_by',\n",
       "       'scheme_management', 'scheme_name', 'permit', 'construction_year',\n",
       "       'extraction_type', 'extraction_type_group', 'extraction_type_class',\n",
       "       'management', 'management_group', 'payment', 'payment_type',\n",
       "       'water_quality', 'quality_group', 'quantity', 'quantity_group',\n",
       "       'source', 'source_type', 'source_class', 'waterpoint_type',\n",
       "       'waterpoint_type_group', 'status_group'],\n",
       "      dtype='object')"
      ]
     },
     "execution_count": 3,
     "metadata": {},
     "output_type": "execute_result"
    }
   ],
   "source": [
    "training_df.columns"
   ]
  },
  {
   "cell_type": "code",
   "execution_count": 4,
   "id": "c8e158db",
   "metadata": {},
   "outputs": [],
   "source": [
    "# Perform feature selection using One-hot coding\n",
    "# Separate features and target variable\n",
    "X = training_df.drop(['id', 'status_group'], axis=1)\n",
    "y = training_df['status_group']"
   ]
  },
  {
   "cell_type": "code",
   "execution_count": 5,
   "id": "34197fae",
   "metadata": {},
   "outputs": [],
   "source": [
    "# One-hot encode categorical features\n",
    "from sklearn.preprocessing import OneHotEncoder, StandardScaler\n",
    "categorical_features = ['region', 'extraction_type', 'water_quality', 'quantity', 'source']\n",
    "encoder = OneHotEncoder()\n",
    "X_encoded = encoder.fit_transform(X[categorical_features])"
   ]
  },
  {
   "cell_type": "code",
   "execution_count": 6,
   "id": "260f9cc4",
   "metadata": {},
   "outputs": [
    {
     "name": "stdout",
     "output_type": "stream",
     "text": [
      "      id  amount_tsh date_recorded  funder  gps_height  installer  longitude  \\\n",
      "0  69572      6000.0    2011-03-14    1369        1390       1518  34.938093   \n",
      "1   8776         0.0    2013-03-06     469        1399        545  34.698766   \n",
      "2  34310        25.0    2013-02-25     825         686       2048  37.460664   \n",
      "3  67743         0.0    2013-01-28    1741         263       1852  38.486161   \n",
      "4  19728         0.0    2011-07-13      20           0        119  31.130847   \n",
      "\n",
      "    latitude              wpt_name  num_private  ... payment_type  \\\n",
      "0  -9.856322                  none            0  ...     annually   \n",
      "1  -2.147466              Zahanati            0  ...    never pay   \n",
      "2  -3.821329           Kwa Mahundi            0  ...   per bucket   \n",
      "3 -11.155298  Zahanati Ya Nanyumbu            0  ...    never pay   \n",
      "4  -1.825359               Shuleni            0  ...    never pay   \n",
      "\n",
      "  water_quality quality_group      quantity  quantity_group  \\\n",
      "0          soft          good        enough          enough   \n",
      "1          soft          good  insufficient    insufficient   \n",
      "2          soft          good        enough          enough   \n",
      "3          soft          good           dry             dry   \n",
      "4          soft          good      seasonal        seasonal   \n",
      "\n",
      "                 source           source_type  source_class  \\\n",
      "0                spring                spring   groundwater   \n",
      "1  rainwater harvesting  rainwater harvesting       surface   \n",
      "2                   dam                   dam       surface   \n",
      "3           machine dbh              borehole   groundwater   \n",
      "4  rainwater harvesting  rainwater harvesting       surface   \n",
      "\n",
      "               waterpoint_type waterpoint_type_group  \n",
      "0           communal standpipe    communal standpipe  \n",
      "1           communal standpipe    communal standpipe  \n",
      "2  communal standpipe multiple    communal standpipe  \n",
      "3  communal standpipe multiple    communal standpipe  \n",
      "4           communal standpipe    communal standpipe  \n",
      "\n",
      "[5 rows x 40 columns]\n"
     ]
    }
   ],
   "source": [
    "from sklearn.preprocessing import LabelEncoder\n",
    "\n",
    "# Select the categorical columns\n",
    "categorical_cols = ['funder', 'installer', 'public_meeting', 'scheme_management', 'scheme_name', 'permit']\n",
    "\n",
    "# Perform label encoding\n",
    "encoder = LabelEncoder()\n",
    "training_set_values_encoded = training_set_values.copy()\n",
    "training_set_values_encoded[categorical_cols] = training_set_values_encoded[categorical_cols].apply(encoder.fit_transform)\n",
    "\n",
    "# Verify the encoded data\n",
    "print(training_set_values_encoded.head())"
   ]
  },
  {
   "cell_type": "markdown",
   "id": "d47aec5f",
   "metadata": {},
   "source": [
    "This performs label encoding on specific categorical columns in the dataset. The encoded dataset (training_set_values_encoded) contains the same columns as the original dataset but with the categorical values replaced by numerical labels."
   ]
  },
  {
   "cell_type": "code",
   "execution_count": 7,
   "id": "0e20b90d",
   "metadata": {},
   "outputs": [],
   "source": [
    "import pandas as pd\n",
    "from sklearn.compose import ColumnTransformer\n",
    "from sklearn.ensemble import RandomForestClassifier\n",
    "from sklearn.impute import SimpleImputer\n",
    "from sklearn.metrics import accuracy_score\n",
    "from sklearn.model_selection import train_test_split\n",
    "from sklearn.pipeline import Pipeline\n",
    "from sklearn.preprocessing import OneHotEncoder, StandardScaler\n",
    "\n",
    "# Define categorical and numeric features\n",
    "categorical_features = ['region', 'extraction_type', 'water_quality', 'quantity', 'source']\n",
    "numeric_features = ['amount_tsh', 'gps_height', 'population', 'construction_year']\n",
    "\n",
    "# Define preprocessing steps for categorical and numeric features\n",
    "categorical_transformer = Pipeline(steps=[\n",
    "    ('imputer', SimpleImputer(strategy='most_frequent')),\n",
    "    ('onehot', OneHotEncoder(handle_unknown='ignore'))\n",
    "])\n",
    "\n",
    "numeric_transformer = Pipeline(steps=[\n",
    "    ('imputer', SimpleImputer(strategy='mean')),\n",
    "    ('scaler', StandardScaler())\n",
    "])\n",
    "\n",
    "# Apply column transformer to preprocess the features\n",
    "preprocessor = ColumnTransformer(transformers=[\n",
    "    ('cat', categorical_transformer, categorical_features),\n",
    "    ('num', numeric_transformer, numeric_features)\n",
    "])"
   ]
  },
  {
   "cell_type": "code",
   "execution_count": 8,
   "id": "09055507",
   "metadata": {},
   "outputs": [],
   "source": [
    "# Apply column transformer to preprocess the features\n",
    "preprocessor = ColumnTransformer(transformers=[\n",
    "    ('cat', categorical_transformer, categorical_features),\n",
    "    ('num', numeric_transformer, numeric_features)\n",
    "])"
   ]
  },
  {
   "cell_type": "code",
   "execution_count": 9,
   "id": "924cc450",
   "metadata": {},
   "outputs": [],
   "source": [
    "# Split the preprocessed data into training and validation sets\n",
    "X_train, X_val, y_train, y_val = train_test_split(X, y, test_size=0.2, random_state=42)"
   ]
  },
  {
   "cell_type": "code",
   "execution_count": 10,
   "id": "8b51b4f3",
   "metadata": {},
   "outputs": [],
   "source": [
    "# Define the pipeline with preprocessing and the classifier\n",
    "pipeline = Pipeline(steps=[\n",
    "    ('preprocessor', preprocessor),\n",
    "    ('classifier', RandomForestClassifier(random_state=42))\n",
    "])\n",
    "\n",
    "# Fit the pipeline on the training data\n",
    "pipeline.fit(X_train, y_train)\n",
    "\n",
    "# Make predictions on the validation set\n",
    "y_pred = pipeline.predict(X_val)"
   ]
  },
  {
   "cell_type": "code",
   "execution_count": 11,
   "id": "5dcbe03c",
   "metadata": {},
   "outputs": [
    {
     "name": "stdout",
     "output_type": "stream",
     "text": [
      "Validation Accuracy: 0.7692760942760942\n"
     ]
    }
   ],
   "source": [
    "# Evaluate the model performance\n",
    "accuracy = accuracy_score(y_val, y_pred)\n",
    "print(\"Validation Accuracy:\", accuracy)"
   ]
  },
  {
   "cell_type": "markdown",
   "id": "b15debd4",
   "metadata": {},
   "source": [
    "The model's predictions align with the true status (e.g., functional, non-functional, needs repair) of the water pumps for about 76.9% of the cases in the validation dataset. This suggests that the model is performing reasonably well in distinguishing between different categories of water pumps."
   ]
  },
  {
   "cell_type": "markdown",
   "id": "a518833c",
   "metadata": {},
   "source": [
    "## MODEL EVALUATION AND TUNING"
   ]
  },
  {
   "cell_type": "markdown",
   "id": "5ba65982",
   "metadata": {},
   "source": [
    "Lets start by using the **Confusion Matrix**"
   ]
  },
  {
   "cell_type": "code",
   "execution_count": 12,
   "id": "e22d442d",
   "metadata": {},
   "outputs": [
    {
     "name": "stdout",
     "output_type": "stream",
     "text": [
      "Validation Accuracy: 0.7692760942760942\n",
      "\n",
      "Classification Report:\n",
      "                         precision    recall  f1-score   support\n",
      "\n",
      "             functional       0.76      0.87      0.82      6457\n",
      "functional needs repair       0.46      0.21      0.28       851\n",
      "         non functional       0.81      0.73      0.76      4572\n",
      "\n",
      "               accuracy                           0.77     11880\n",
      "              macro avg       0.68      0.60      0.62     11880\n",
      "           weighted avg       0.76      0.77      0.76     11880\n",
      "\n",
      "\n",
      "Confusion Matrix:\n",
      "[[5648  148  661]\n",
      " [ 554  175  122]\n",
      " [1196   60 3316]]\n"
     ]
    }
   ],
   "source": [
    "#Using the accuracy metrics  from sklearn.metrics \n",
    "from sklearn.metrics import accuracy_score, classification_report, confusion_matrix\n",
    "# Make predictions on the validation set\n",
    "y_pred = pipeline.predict(X_val)\n",
    "\n",
    "# Evaluate the model performance\n",
    "accuracy = accuracy_score(y_val, y_pred)\n",
    "print(\"Validation Accuracy:\", accuracy)\n",
    "\n",
    "# Generate a classification report\n",
    "print(\"\\nClassification Report:\")\n",
    "print(classification_report(y_val, y_pred))\n",
    "\n",
    "# Generate a confusion matrix\n",
    "print(\"\\nConfusion Matrix:\")\n",
    "print(confusion_matrix(y_val, y_pred))"
   ]
  },
  {
   "cell_type": "code",
   "execution_count": 13,
   "id": "497b8c21",
   "metadata": {},
   "outputs": [
    {
     "data": {
      "image/png": "[encoded data removed]",
      "text/plain": [
       "<Figure size 640x480 with 2 Axes>"
      ]
     },
     "metadata": {},
     "output_type": "display_data"
    }
   ],
   "source": [
    "#Plot the confusion matrix\n",
    "confusion_mat = confusion_matrix(y_val, y_pred)\n",
    "sns.heatmap(confusion_mat, annot=True, fmt='d', cmap='Blues')\n",
    "plt.xlabel('Predicted')\n",
    "plt.ylabel('True')\n",
    "plt.title('Confusion Matrix')\n",
    "plt.show()"
   ]
  },
  {
   "cell_type": "markdown",
   "id": "1097e71f",
   "metadata": {},
   "source": [
    "- Functional (True Label) vs. Functional (Predicted Label):\n",
    "\n",
    "    -Out of 6457 samples that are actually functional, the model correctly predicted 5648 samples as functional (true positives).\n",
    "    \n",
    "    -However, it incorrectly predicted 148 samples as non-functional (false negatives) and 661 samples as functional needs repair (false positives).\n",
    "\n",
    "- Functional (True Label) vs. Functional Needs Repair (Predicted Label):\n",
    "\n",
    "    -Among the 851 samples that actually need repair, the model only predicted 175 as functional needs repair (true positives).\n",
    "    \n",
    "    -It misclassified 554 samples as functional (false negatives) and 122 samples as non-functional (false positives).\n",
    "\n",
    "- Functional (True Label) vs. Non-functional (Predicted Label):\n",
    "\n",
    "    -Out of the 4572 samples that are actually non-functional, the model correctly predicted 3316 samples as non-functional (true positives).\n",
    "    \n",
    "    -However, it wrongly classified 60 samples as functional (false negatives) and 1196 samples as functional needs repair (false positives).\n",
    "\n"
   ]
  },
  {
   "cell_type": "markdown",
   "id": "01eafbae",
   "metadata": {},
   "source": [
    "Lets demonstrate **hyperparameter tuning using grid search**.:"
   ]
  },
  {
   "cell_type": "code",
   "execution_count": 14,
   "id": "22e1ac31",
   "metadata": {},
   "outputs": [
    {
     "name": "stdout",
     "output_type": "stream",
     "text": [
      "Best Accuracy: 0.692\n",
      "Best Parameters: {'classifier__max_depth': 10, 'classifier__min_samples_split': 2, 'classifier__n_estimators': 100}\n"
     ]
    }
   ],
   "source": [
    "#hyperparameter tuning using grid search\n",
    "\n",
    "from sklearn.model_selection import GridSearchCV\n",
    "\n",
    "# Define the parameter grid for grid search\n",
    "param_grid = {\n",
    "    'classifier__n_estimators': [100, 200, 300],\n",
    "    'classifier__max_depth': [None, 5, 10],\n",
    "    'classifier__min_samples_split': [2, 5, 10]\n",
    "}\n",
    "\n",
    "# Create a smaller subset of data for grid search\n",
    "X_train_subset = X_train[:1000]  # Adjust the subset size as needed\n",
    "y_train_subset = y_train[:1000]\n",
    "\n",
    "# Perform grid search with cross-validation\n",
    "grid_search = GridSearchCV(pipeline, param_grid, cv=5, n_jobs=-1)  # Enable parallel processing\n",
    "grid_search.fit(X_train_subset, y_train_subset)\n",
    "\n",
    "# Get the best model and its performance\n",
    "best_model = grid_search.best_estimator_\n",
    "best_accuracy = grid_search.best_score_\n",
    "best_params = grid_search.best_params_\n",
    "\n",
    "print(\"Best Accuracy:\", best_accuracy)\n",
    "print(\"Best Parameters:\", best_params)"
   ]
  },
  {
   "cell_type": "code",
   "execution_count": 15,
   "id": "5ee1a1c8",
   "metadata": {},
   "outputs": [
    {
     "name": "stdout",
     "output_type": "stream",
     "text": [
      "Number of Unique Classes: 3\n",
      "Is Binary Classification: False\n"
     ]
    }
   ],
   "source": [
    "# Assuming 'y' is your target variable\n",
    "\n",
    "# Check the number of unique classes in the target variable\n",
    "num_classes = len(y.unique())\n",
    "\n",
    "# Check if the classification problem is binary\n",
    "is_binary_classification = num_classes == 2\n",
    "\n",
    "print(\"Number of Unique Classes:\", num_classes)\n",
    "print(\"Is Binary Classification:\", is_binary_classification)"
   ]
  },
  {
   "cell_type": "code",
   "execution_count": 16,
   "id": "cb86a64d",
   "metadata": {},
   "outputs": [
    {
     "name": "stdout",
     "output_type": "stream",
     "text": [
      "Classification Report:\n",
      "                         precision    recall  f1-score   support\n",
      "\n",
      "             functional       0.76      0.87      0.82      6457\n",
      "functional needs repair       0.46      0.21      0.28       851\n",
      "         non functional       0.81      0.73      0.76      4572\n",
      "\n",
      "               accuracy                           0.77     11880\n",
      "              macro avg       0.68      0.60      0.62     11880\n",
      "           weighted avg       0.76      0.77      0.76     11880\n",
      "\n"
     ]
    }
   ],
   "source": [
    "from sklearn.metrics import classification_report\n",
    "\n",
    "# Assuming 'y_true' is the true labels and 'y_pred' is the predicted labels\n",
    "report = classification_report(y_val, y_pred)\n",
    "\n",
    "print(\"Classification Report:\")\n",
    "print(report)\n"
   ]
  },
  {
   "cell_type": "code",
   "execution_count": 17,
   "id": "ffc059b2",
   "metadata": {},
   "outputs": [
    {
     "data": {
      "image/png": "[encoded data removed]",
      "text/plain": [
       "<Figure size 640x480 with 2 Axes>"
      ]
     },
     "metadata": {},
     "output_type": "display_data"
    }
   ],
   "source": [
    "#Plot the confusion matrix\n",
    "confusion_mat = confusion_matrix(y_val, y_pred)\n",
    "sns.heatmap(confusion_mat, annot=True, fmt='d', cmap='Oranges')\n",
    "plt.xlabel('Predicted')\n",
    "plt.ylabel('True')\n",
    "plt.title('Confusion Matrix')\n",
    "plt.show()"
   ]
  },
  {
   "cell_type": "code",
   "execution_count": 18,
   "id": "130c36f0",
   "metadata": {},
   "outputs": [
    {
     "data": {
      "text/plain": [
       "array(['functional', 'non functional', 'functional needs repair'],\n",
       "      dtype=object)"
      ]
     },
     "execution_count": 18,
     "metadata": {},
     "output_type": "execute_result"
    }
   ],
   "source": [
    "classes = y.unique()\n",
    "classes"
   ]
  },
  {
   "cell_type": "code",
   "execution_count": 19,
   "id": "3762140b",
   "metadata": {},
   "outputs": [
    {
     "name": "stdout",
     "output_type": "stream",
     "text": [
      "Class: functional\n",
      "Precision: 0.76\n",
      "Recall: 0.87\n",
      "F1-score: 0.82\n",
      "\n",
      "Class: non functional\n",
      "Precision: 0.46\n",
      "Recall: 0.21\n",
      "F1-score: 0.28\n",
      "\n",
      "Class: functional needs repair\n",
      "Precision: 0.81\n",
      "Recall: 0.73\n",
      "F1-score: 0.76\n",
      "\n"
     ]
    },
    {
     "data": {
      "image/png": "[encoded data removed]",
      "text/plain": [
       "<Figure size 640x480 with 2 Axes>"
      ]
     },
     "metadata": {},
     "output_type": "display_data"
    }
   ],
   "source": [
    "from sklearn.metrics import accuracy_score, precision_score, recall_score, f1_score, confusion_matrix\n",
    "import seaborn as sns\n",
    "import matplotlib.pyplot as plt\n",
    "\n",
    "# Assuming 'y_test' is the true labels and 'y_pred' is the predicted labels\n",
    "\n",
    "# Calculate accuracy\n",
    "accuracy = accuracy_score(y_val, y_pred)\n",
    "\n",
    "# Calculate precision, recall, and F1-score for each class\n",
    "precision = precision_score(y_val, y_pred, average=None)\n",
    "recall = recall_score(y_val, y_pred, average=None)\n",
    "f1 = f1_score(y_val, y_pred, average=None)\n",
    "\n",
    "# Print evaluation metrics for each class\n",
    "for class_label, prec, rec, f1_score in zip(classes, precision, recall, f1):\n",
    "    print(f\"Class: {class_label}\")\n",
    "    print(f\"Precision: {prec:.2f}\")\n",
    "    print(f\"Recall: {rec:.2f}\")\n",
    "    print(f\"F1-score: {f1_score:.2f}\")\n",
    "    print()\n",
    "\n",
    "# Plot confusion matrix\n",
    "confusion_mat = confusion_matrix(y_val, y_pred)\n",
    "sns.heatmap(confusion_mat, annot=True, fmt='d', cmap='Blues')\n",
    "plt.xlabel('Predicted')\n",
    "plt.ylabel('True')\n",
    "plt.title('Confusion Matrix')\n",
    "plt.show()"
   ]
  },
  {
   "cell_type": "markdown",
   "id": "cf8851f7",
   "metadata": {},
   "source": [
    "- Precision: Higher precision values indicate a lower rate of false positives. The model achieved precision values of 0.75, 0.64, and 0.70 for Class 0, Class 1, and Class 2, respectively,which suggests that the model performed relatively well in making accurate positive predictions for all classes.\n",
    "\n",
    "- Recall: Higher recall values indicate a lower rate of false negatives. The recall values obtained for Class 0, Class 1, and Class 2 are 0.80, 0.62, and 0.68, respectively,which suggests that the model is more effective at correctly identifying instances from Class 0 compared to Class 1 and Class 2.\n",
    "\n",
    "- F1-score: The F1-scores obtained for Class 0, Class 1, and Class 2 are 0.77, 0.63, and 0.69, respectively. These scores indicate a reasonably balanced performance for all classes.\n",
    "\n",
    "- Accuracy: It represents the ratio of correctly predicted instances to the total number of instances. The overall accuracy is mentioned separately as 0.70."
   ]
  },
  {
   "cell_type": "markdown",
   "id": "2435d43a",
   "metadata": {},
   "source": [
    "## **BUILDING CLASSIFICATION MODELS**"
   ]
  },
  {
   "cell_type": "markdown",
   "id": "350893be",
   "metadata": {},
   "source": [
    "By combining the training and test sets, it allows for consistent preprocessing of both datasets, ensuring that any transformations or feature engineering steps are applied consistently. This can be useful when preparing the data for machine learning models, as the preprocessing steps should be applied in the same manner to both the training and test data."
   ]
  },
  {
   "cell_type": "code",
   "execution_count": 20,
   "id": "14bacb10",
   "metadata": {},
   "outputs": [
    {
     "data": {
      "text/html": [
       "<div>\n",
       "<style scoped>\n",
       "    .dataframe tbody tr th:only-of-type {\n",
       "        vertical-align: middle;\n",
       "    }\n",
       "\n",
       "    .dataframe tbody tr th {\n",
       "        vertical-align: top;\n",
       "    }\n",
       "\n",
       "    .dataframe thead th {\n",
       "        text-align: right;\n",
       "    }\n",
       "</style>\n",
       "<table border=\"1\" class=\"dataframe\">\n",
       "  <thead>\n",
       "    <tr style=\"text-align: right;\">\n",
       "      <th></th>\n",
       "      <th>id</th>\n",
       "      <th>amount_tsh</th>\n",
       "      <th>date_recorded</th>\n",
       "      <th>funder</th>\n",
       "      <th>gps_height</th>\n",
       "      <th>installer</th>\n",
       "      <th>longitude</th>\n",
       "      <th>latitude</th>\n",
       "      <th>wpt_name</th>\n",
       "      <th>num_private</th>\n",
       "      <th>...</th>\n",
       "      <th>water_quality</th>\n",
       "      <th>quality_group</th>\n",
       "      <th>quantity</th>\n",
       "      <th>quantity_group</th>\n",
       "      <th>source</th>\n",
       "      <th>source_type</th>\n",
       "      <th>source_class</th>\n",
       "      <th>waterpoint_type</th>\n",
       "      <th>waterpoint_type_group</th>\n",
       "      <th>status_group</th>\n",
       "    </tr>\n",
       "  </thead>\n",
       "  <tbody>\n",
       "    <tr>\n",
       "      <th>0</th>\n",
       "      <td>69572</td>\n",
       "      <td>6000.0</td>\n",
       "      <td>2011-03-14</td>\n",
       "      <td>Roman</td>\n",
       "      <td>1390</td>\n",
       "      <td>Roman</td>\n",
       "      <td>34.938093</td>\n",
       "      <td>-9.856322</td>\n",
       "      <td>none</td>\n",
       "      <td>0</td>\n",
       "      <td>...</td>\n",
       "      <td>soft</td>\n",
       "      <td>good</td>\n",
       "      <td>enough</td>\n",
       "      <td>enough</td>\n",
       "      <td>spring</td>\n",
       "      <td>spring</td>\n",
       "      <td>groundwater</td>\n",
       "      <td>communal standpipe</td>\n",
       "      <td>communal standpipe</td>\n",
       "      <td>functional</td>\n",
       "    </tr>\n",
       "    <tr>\n",
       "      <th>1</th>\n",
       "      <td>8776</td>\n",
       "      <td>0.0</td>\n",
       "      <td>2013-03-06</td>\n",
       "      <td>Grumeti</td>\n",
       "      <td>1399</td>\n",
       "      <td>GRUMETI</td>\n",
       "      <td>34.698766</td>\n",
       "      <td>-2.147466</td>\n",
       "      <td>Zahanati</td>\n",
       "      <td>0</td>\n",
       "      <td>...</td>\n",
       "      <td>soft</td>\n",
       "      <td>good</td>\n",
       "      <td>insufficient</td>\n",
       "      <td>insufficient</td>\n",
       "      <td>rainwater harvesting</td>\n",
       "      <td>rainwater harvesting</td>\n",
       "      <td>surface</td>\n",
       "      <td>communal standpipe</td>\n",
       "      <td>communal standpipe</td>\n",
       "      <td>functional</td>\n",
       "    </tr>\n",
       "    <tr>\n",
       "      <th>2</th>\n",
       "      <td>34310</td>\n",
       "      <td>25.0</td>\n",
       "      <td>2013-02-25</td>\n",
       "      <td>Lottery Club</td>\n",
       "      <td>686</td>\n",
       "      <td>World vision</td>\n",
       "      <td>37.460664</td>\n",
       "      <td>-3.821329</td>\n",
       "      <td>Kwa Mahundi</td>\n",
       "      <td>0</td>\n",
       "      <td>...</td>\n",
       "      <td>soft</td>\n",
       "      <td>good</td>\n",
       "      <td>enough</td>\n",
       "      <td>enough</td>\n",
       "      <td>dam</td>\n",
       "      <td>dam</td>\n",
       "      <td>surface</td>\n",
       "      <td>communal standpipe multiple</td>\n",
       "      <td>communal standpipe</td>\n",
       "      <td>functional</td>\n",
       "    </tr>\n",
       "    <tr>\n",
       "      <th>3</th>\n",
       "      <td>67743</td>\n",
       "      <td>0.0</td>\n",
       "      <td>2013-01-28</td>\n",
       "      <td>Unicef</td>\n",
       "      <td>263</td>\n",
       "      <td>UNICEF</td>\n",
       "      <td>38.486161</td>\n",
       "      <td>-11.155298</td>\n",
       "      <td>Zahanati Ya Nanyumbu</td>\n",
       "      <td>0</td>\n",
       "      <td>...</td>\n",
       "      <td>soft</td>\n",
       "      <td>good</td>\n",
       "      <td>dry</td>\n",
       "      <td>dry</td>\n",
       "      <td>machine dbh</td>\n",
       "      <td>borehole</td>\n",
       "      <td>groundwater</td>\n",
       "      <td>communal standpipe multiple</td>\n",
       "      <td>communal standpipe</td>\n",
       "      <td>non functional</td>\n",
       "    </tr>\n",
       "    <tr>\n",
       "      <th>4</th>\n",
       "      <td>19728</td>\n",
       "      <td>0.0</td>\n",
       "      <td>2011-07-13</td>\n",
       "      <td>Action In A</td>\n",
       "      <td>0</td>\n",
       "      <td>Artisan</td>\n",
       "      <td>31.130847</td>\n",
       "      <td>-1.825359</td>\n",
       "      <td>Shuleni</td>\n",
       "      <td>0</td>\n",
       "      <td>...</td>\n",
       "      <td>soft</td>\n",
       "      <td>good</td>\n",
       "      <td>seasonal</td>\n",
       "      <td>seasonal</td>\n",
       "      <td>rainwater harvesting</td>\n",
       "      <td>rainwater harvesting</td>\n",
       "      <td>surface</td>\n",
       "      <td>communal standpipe</td>\n",
       "      <td>communal standpipe</td>\n",
       "      <td>functional</td>\n",
       "    </tr>\n",
       "    <tr>\n",
       "      <th>...</th>\n",
       "      <td>...</td>\n",
       "      <td>...</td>\n",
       "      <td>...</td>\n",
       "      <td>...</td>\n",
       "      <td>...</td>\n",
       "      <td>...</td>\n",
       "      <td>...</td>\n",
       "      <td>...</td>\n",
       "      <td>...</td>\n",
       "      <td>...</td>\n",
       "      <td>...</td>\n",
       "      <td>...</td>\n",
       "      <td>...</td>\n",
       "      <td>...</td>\n",
       "      <td>...</td>\n",
       "      <td>...</td>\n",
       "      <td>...</td>\n",
       "      <td>...</td>\n",
       "      <td>...</td>\n",
       "      <td>...</td>\n",
       "      <td>...</td>\n",
       "    </tr>\n",
       "    <tr>\n",
       "      <th>14845</th>\n",
       "      <td>39307</td>\n",
       "      <td>0.0</td>\n",
       "      <td>2011-02-24</td>\n",
       "      <td>Danida</td>\n",
       "      <td>34</td>\n",
       "      <td>Da</td>\n",
       "      <td>38.852669</td>\n",
       "      <td>-6.582841</td>\n",
       "      <td>Kwambwezi</td>\n",
       "      <td>0</td>\n",
       "      <td>...</td>\n",
       "      <td>soft</td>\n",
       "      <td>good</td>\n",
       "      <td>enough</td>\n",
       "      <td>enough</td>\n",
       "      <td>river</td>\n",
       "      <td>river/lake</td>\n",
       "      <td>surface</td>\n",
       "      <td>communal standpipe</td>\n",
       "      <td>communal standpipe</td>\n",
       "      <td>NaN</td>\n",
       "    </tr>\n",
       "    <tr>\n",
       "      <th>14846</th>\n",
       "      <td>18990</td>\n",
       "      <td>1000.0</td>\n",
       "      <td>2011-03-21</td>\n",
       "      <td>Hiap</td>\n",
       "      <td>0</td>\n",
       "      <td>HIAP</td>\n",
       "      <td>37.451633</td>\n",
       "      <td>-5.350428</td>\n",
       "      <td>Bonde La Mkondoa</td>\n",
       "      <td>0</td>\n",
       "      <td>...</td>\n",
       "      <td>salty</td>\n",
       "      <td>salty</td>\n",
       "      <td>insufficient</td>\n",
       "      <td>insufficient</td>\n",
       "      <td>shallow well</td>\n",
       "      <td>shallow well</td>\n",
       "      <td>groundwater</td>\n",
       "      <td>hand pump</td>\n",
       "      <td>hand pump</td>\n",
       "      <td>NaN</td>\n",
       "    </tr>\n",
       "    <tr>\n",
       "      <th>14847</th>\n",
       "      <td>28749</td>\n",
       "      <td>0.0</td>\n",
       "      <td>2013-03-04</td>\n",
       "      <td>NaN</td>\n",
       "      <td>1476</td>\n",
       "      <td>NaN</td>\n",
       "      <td>34.739804</td>\n",
       "      <td>-4.585587</td>\n",
       "      <td>Bwawani</td>\n",
       "      <td>0</td>\n",
       "      <td>...</td>\n",
       "      <td>soft</td>\n",
       "      <td>good</td>\n",
       "      <td>insufficient</td>\n",
       "      <td>insufficient</td>\n",
       "      <td>dam</td>\n",
       "      <td>dam</td>\n",
       "      <td>surface</td>\n",
       "      <td>communal standpipe</td>\n",
       "      <td>communal standpipe</td>\n",
       "      <td>NaN</td>\n",
       "    </tr>\n",
       "    <tr>\n",
       "      <th>14848</th>\n",
       "      <td>33492</td>\n",
       "      <td>0.0</td>\n",
       "      <td>2013-02-18</td>\n",
       "      <td>Germany</td>\n",
       "      <td>998</td>\n",
       "      <td>DWE</td>\n",
       "      <td>35.432732</td>\n",
       "      <td>-10.584159</td>\n",
       "      <td>Kwa John</td>\n",
       "      <td>0</td>\n",
       "      <td>...</td>\n",
       "      <td>soft</td>\n",
       "      <td>good</td>\n",
       "      <td>insufficient</td>\n",
       "      <td>insufficient</td>\n",
       "      <td>river</td>\n",
       "      <td>river/lake</td>\n",
       "      <td>surface</td>\n",
       "      <td>communal standpipe</td>\n",
       "      <td>communal standpipe</td>\n",
       "      <td>NaN</td>\n",
       "    </tr>\n",
       "    <tr>\n",
       "      <th>14849</th>\n",
       "      <td>68707</td>\n",
       "      <td>0.0</td>\n",
       "      <td>2013-02-13</td>\n",
       "      <td>Government Of Tanzania</td>\n",
       "      <td>481</td>\n",
       "      <td>Government</td>\n",
       "      <td>34.765054</td>\n",
       "      <td>-11.226012</td>\n",
       "      <td>Kwa Mzee Chagala</td>\n",
       "      <td>0</td>\n",
       "      <td>...</td>\n",
       "      <td>soft</td>\n",
       "      <td>good</td>\n",
       "      <td>dry</td>\n",
       "      <td>dry</td>\n",
       "      <td>spring</td>\n",
       "      <td>spring</td>\n",
       "      <td>groundwater</td>\n",
       "      <td>communal standpipe</td>\n",
       "      <td>communal standpipe</td>\n",
       "      <td>NaN</td>\n",
       "    </tr>\n",
       "  </tbody>\n",
       "</table>\n",
       "<p>74250 rows × 41 columns</p>\n",
       "</div>"
      ],
      "text/plain": [
       "          id  amount_tsh date_recorded                  funder  gps_height  \\\n",
       "0      69572      6000.0    2011-03-14                   Roman        1390   \n",
       "1       8776         0.0    2013-03-06                 Grumeti        1399   \n",
       "2      34310        25.0    2013-02-25            Lottery Club         686   \n",
       "3      67743         0.0    2013-01-28                  Unicef         263   \n",
       "4      19728         0.0    2011-07-13             Action In A           0   \n",
       "...      ...         ...           ...                     ...         ...   \n",
       "14845  39307         0.0    2011-02-24                  Danida          34   \n",
       "14846  18990      1000.0    2011-03-21                    Hiap           0   \n",
       "14847  28749         0.0    2013-03-04                     NaN        1476   \n",
       "14848  33492         0.0    2013-02-18                 Germany         998   \n",
       "14849  68707         0.0    2013-02-13  Government Of Tanzania         481   \n",
       "\n",
       "          installer  longitude   latitude              wpt_name  num_private  \\\n",
       "0             Roman  34.938093  -9.856322                  none            0   \n",
       "1           GRUMETI  34.698766  -2.147466              Zahanati            0   \n",
       "2      World vision  37.460664  -3.821329           Kwa Mahundi            0   \n",
       "3            UNICEF  38.486161 -11.155298  Zahanati Ya Nanyumbu            0   \n",
       "4           Artisan  31.130847  -1.825359               Shuleni            0   \n",
       "...             ...        ...        ...                   ...          ...   \n",
       "14845            Da  38.852669  -6.582841             Kwambwezi            0   \n",
       "14846          HIAP  37.451633  -5.350428      Bonde La Mkondoa            0   \n",
       "14847           NaN  34.739804  -4.585587               Bwawani            0   \n",
       "14848           DWE  35.432732 -10.584159              Kwa John            0   \n",
       "14849    Government  34.765054 -11.226012      Kwa Mzee Chagala            0   \n",
       "\n",
       "       ... water_quality quality_group      quantity  quantity_group  \\\n",
       "0      ...          soft          good        enough          enough   \n",
       "1      ...          soft          good  insufficient    insufficient   \n",
       "2      ...          soft          good        enough          enough   \n",
       "3      ...          soft          good           dry             dry   \n",
       "4      ...          soft          good      seasonal        seasonal   \n",
       "...    ...           ...           ...           ...             ...   \n",
       "14845  ...          soft          good        enough          enough   \n",
       "14846  ...         salty         salty  insufficient    insufficient   \n",
       "14847  ...          soft          good  insufficient    insufficient   \n",
       "14848  ...          soft          good  insufficient    insufficient   \n",
       "14849  ...          soft          good           dry             dry   \n",
       "\n",
       "                     source           source_type source_class  \\\n",
       "0                    spring                spring  groundwater   \n",
       "1      rainwater harvesting  rainwater harvesting      surface   \n",
       "2                       dam                   dam      surface   \n",
       "3               machine dbh              borehole  groundwater   \n",
       "4      rainwater harvesting  rainwater harvesting      surface   \n",
       "...                     ...                   ...          ...   \n",
       "14845                 river            river/lake      surface   \n",
       "14846          shallow well          shallow well  groundwater   \n",
       "14847                   dam                   dam      surface   \n",
       "14848                 river            river/lake      surface   \n",
       "14849                spring                spring  groundwater   \n",
       "\n",
       "                   waterpoint_type waterpoint_type_group    status_group  \n",
       "0               communal standpipe    communal standpipe      functional  \n",
       "1               communal standpipe    communal standpipe      functional  \n",
       "2      communal standpipe multiple    communal standpipe      functional  \n",
       "3      communal standpipe multiple    communal standpipe  non functional  \n",
       "4               communal standpipe    communal standpipe      functional  \n",
       "...                            ...                   ...             ...  \n",
       "14845           communal standpipe    communal standpipe             NaN  \n",
       "14846                    hand pump             hand pump             NaN  \n",
       "14847           communal standpipe    communal standpipe             NaN  \n",
       "14848           communal standpipe    communal standpipe             NaN  \n",
       "14849           communal standpipe    communal standpipe             NaN  \n",
       "\n",
       "[74250 rows x 41 columns]"
      ]
     },
     "execution_count": 20,
     "metadata": {},
     "output_type": "execute_result"
    }
   ],
   "source": [
    "# Concatenate the training set and test set for preprocessing\n",
    "combined_df = pd.concat([training_df, test_set_values])\n",
    "combined_df"
   ]
  },
  {
   "cell_type": "markdown",
   "id": "db421039",
   "metadata": {},
   "source": [
    "The resulting combined_df DataFrame will have rows from the training set followed by the rows from the test set. This can be helpful for performing operations that require data from both sets or for applying transformations that need information from the entire dataset."
   ]
  },
  {
   "cell_type": "code",
   "execution_count": 21,
   "id": "fe51f569",
   "metadata": {},
   "outputs": [
    {
     "name": "stdout",
     "output_type": "stream",
     "text": [
      "<class 'pandas.core.frame.DataFrame'>\n",
      "Int64Index: 59400 entries, 0 to 59399\n",
      "Data columns (total 41 columns):\n",
      " #   Column                 Non-Null Count  Dtype  \n",
      "---  ------                 --------------  -----  \n",
      " 0   id                     59400 non-null  int64  \n",
      " 1   amount_tsh             59400 non-null  float64\n",
      " 2   date_recorded          59400 non-null  object \n",
      " 3   funder                 55765 non-null  object \n",
      " 4   gps_height             59400 non-null  int64  \n",
      " 5   installer              55745 non-null  object \n",
      " 6   longitude              59400 non-null  float64\n",
      " 7   latitude               59400 non-null  float64\n",
      " 8   wpt_name               59400 non-null  object \n",
      " 9   num_private            59400 non-null  int64  \n",
      " 10  basin                  59400 non-null  object \n",
      " 11  subvillage             59029 non-null  object \n",
      " 12  region                 59400 non-null  object \n",
      " 13  region_code            59400 non-null  int64  \n",
      " 14  district_code          59400 non-null  int64  \n",
      " 15  lga                    59400 non-null  object \n",
      " 16  ward                   59400 non-null  object \n",
      " 17  population             59400 non-null  int64  \n",
      " 18  public_meeting         56066 non-null  object \n",
      " 19  recorded_by            59400 non-null  object \n",
      " 20  scheme_management      55523 non-null  object \n",
      " 21  scheme_name            31234 non-null  object \n",
      " 22  permit                 56344 non-null  object \n",
      " 23  construction_year      59400 non-null  int64  \n",
      " 24  extraction_type        59400 non-null  object \n",
      " 25  extraction_type_group  59400 non-null  object \n",
      " 26  extraction_type_class  59400 non-null  object \n",
      " 27  management             59400 non-null  object \n",
      " 28  management_group       59400 non-null  object \n",
      " 29  payment                59400 non-null  object \n",
      " 30  payment_type           59400 non-null  object \n",
      " 31  water_quality          59400 non-null  object \n",
      " 32  quality_group          59400 non-null  object \n",
      " 33  quantity               59400 non-null  object \n",
      " 34  quantity_group         59400 non-null  object \n",
      " 35  source                 59400 non-null  object \n",
      " 36  source_type            59400 non-null  object \n",
      " 37  source_class           59400 non-null  object \n",
      " 38  waterpoint_type        59400 non-null  object \n",
      " 39  waterpoint_type_group  59400 non-null  object \n",
      " 40  status_group           59400 non-null  object \n",
      "dtypes: float64(3), int64(7), object(31)\n",
      "memory usage: 19.0+ MB\n"
     ]
    }
   ],
   "source": [
    "training_df.info()"
   ]
  },
  {
   "cell_type": "code",
   "execution_count": 22,
   "id": "765c6d3b",
   "metadata": {},
   "outputs": [
    {
     "name": "stdout",
     "output_type": "stream",
     "text": [
      "Index(['id', 'amount_tsh', 'date_recorded', 'funder', 'gps_height',\n",
      "       'installer', 'longitude', 'latitude', 'wpt_name', 'num_private',\n",
      "       'basin', 'subvillage', 'region', 'region_code', 'district_code', 'lga',\n",
      "       'ward', 'population', 'public_meeting', 'recorded_by',\n",
      "       'scheme_management', 'scheme_name', 'permit', 'construction_year',\n",
      "       'extraction_type', 'extraction_type_group', 'extraction_type_class',\n",
      "       'management', 'management_group', 'payment', 'payment_type',\n",
      "       'water_quality', 'quality_group', 'quantity', 'quantity_group',\n",
      "       'source', 'source_type', 'source_class', 'waterpoint_type',\n",
      "       'waterpoint_type_group', 'status_group'],\n",
      "      dtype='object')\n"
     ]
    }
   ],
   "source": [
    "print(training_df.columns)"
   ]
  },
  {
   "cell_type": "code",
   "execution_count": 23,
   "id": "b7ac85b4",
   "metadata": {},
   "outputs": [
    {
     "data": {
      "text/html": [
       "<div>\n",
       "<style scoped>\n",
       "    .dataframe tbody tr th:only-of-type {\n",
       "        vertical-align: middle;\n",
       "    }\n",
       "\n",
       "    .dataframe tbody tr th {\n",
       "        vertical-align: top;\n",
       "    }\n",
       "\n",
       "    .dataframe thead th {\n",
       "        text-align: right;\n",
       "    }\n",
       "</style>\n",
       "<table border=\"1\" class=\"dataframe\">\n",
       "  <thead>\n",
       "    <tr style=\"text-align: right;\">\n",
       "      <th></th>\n",
       "      <th>amount_tsh</th>\n",
       "      <th>date_recorded</th>\n",
       "      <th>funder</th>\n",
       "      <th>gps_height</th>\n",
       "      <th>installer</th>\n",
       "      <th>longitude</th>\n",
       "      <th>latitude</th>\n",
       "      <th>basin</th>\n",
       "      <th>subvillage</th>\n",
       "      <th>region_code</th>\n",
       "      <th>extraction_type</th>\n",
       "      <th>management_group</th>\n",
       "      <th>payment_type</th>\n",
       "      <th>water_quality</th>\n",
       "      <th>quantity_group</th>\n",
       "      <th>source_type</th>\n",
       "      <th>source_class</th>\n",
       "      <th>waterpoint_type</th>\n",
       "      <th>waterpoint_type_group</th>\n",
       "      <th>status_group</th>\n",
       "    </tr>\n",
       "  </thead>\n",
       "  <tbody>\n",
       "    <tr>\n",
       "      <th>0</th>\n",
       "      <td>6000.0</td>\n",
       "      <td>2011-03-14</td>\n",
       "      <td>Roman</td>\n",
       "      <td>1390</td>\n",
       "      <td>Roman</td>\n",
       "      <td>34.938093</td>\n",
       "      <td>-9.856322</td>\n",
       "      <td>Lake Nyasa</td>\n",
       "      <td>Mnyusi B</td>\n",
       "      <td>11</td>\n",
       "      <td>gravity</td>\n",
       "      <td>user-group</td>\n",
       "      <td>annually</td>\n",
       "      <td>soft</td>\n",
       "      <td>enough</td>\n",
       "      <td>spring</td>\n",
       "      <td>groundwater</td>\n",
       "      <td>communal standpipe</td>\n",
       "      <td>communal standpipe</td>\n",
       "      <td>functional</td>\n",
       "    </tr>\n",
       "    <tr>\n",
       "      <th>1</th>\n",
       "      <td>0.0</td>\n",
       "      <td>2013-03-06</td>\n",
       "      <td>Grumeti</td>\n",
       "      <td>1399</td>\n",
       "      <td>GRUMETI</td>\n",
       "      <td>34.698766</td>\n",
       "      <td>-2.147466</td>\n",
       "      <td>Lake Victoria</td>\n",
       "      <td>Nyamara</td>\n",
       "      <td>20</td>\n",
       "      <td>gravity</td>\n",
       "      <td>user-group</td>\n",
       "      <td>never pay</td>\n",
       "      <td>soft</td>\n",
       "      <td>insufficient</td>\n",
       "      <td>rainwater harvesting</td>\n",
       "      <td>surface</td>\n",
       "      <td>communal standpipe</td>\n",
       "      <td>communal standpipe</td>\n",
       "      <td>functional</td>\n",
       "    </tr>\n",
       "    <tr>\n",
       "      <th>2</th>\n",
       "      <td>25.0</td>\n",
       "      <td>2013-02-25</td>\n",
       "      <td>Lottery Club</td>\n",
       "      <td>686</td>\n",
       "      <td>World vision</td>\n",
       "      <td>37.460664</td>\n",
       "      <td>-3.821329</td>\n",
       "      <td>Pangani</td>\n",
       "      <td>Majengo</td>\n",
       "      <td>21</td>\n",
       "      <td>gravity</td>\n",
       "      <td>user-group</td>\n",
       "      <td>per bucket</td>\n",
       "      <td>soft</td>\n",
       "      <td>enough</td>\n",
       "      <td>dam</td>\n",
       "      <td>surface</td>\n",
       "      <td>communal standpipe multiple</td>\n",
       "      <td>communal standpipe</td>\n",
       "      <td>functional</td>\n",
       "    </tr>\n",
       "  </tbody>\n",
       "</table>\n",
       "</div>"
      ],
      "text/plain": [
       "   amount_tsh date_recorded        funder  gps_height     installer  \\\n",
       "0      6000.0    2011-03-14         Roman        1390         Roman   \n",
       "1         0.0    2013-03-06       Grumeti        1399       GRUMETI   \n",
       "2        25.0    2013-02-25  Lottery Club         686  World vision   \n",
       "\n",
       "   longitude  latitude          basin subvillage  region_code extraction_type  \\\n",
       "0  34.938093 -9.856322     Lake Nyasa   Mnyusi B           11         gravity   \n",
       "1  34.698766 -2.147466  Lake Victoria    Nyamara           20         gravity   \n",
       "2  37.460664 -3.821329        Pangani    Majengo           21         gravity   \n",
       "\n",
       "  management_group payment_type water_quality quantity_group  \\\n",
       "0       user-group     annually          soft         enough   \n",
       "1       user-group    never pay          soft   insufficient   \n",
       "2       user-group   per bucket          soft         enough   \n",
       "\n",
       "            source_type source_class              waterpoint_type  \\\n",
       "0                spring  groundwater           communal standpipe   \n",
       "1  rainwater harvesting      surface           communal standpipe   \n",
       "2                   dam      surface  communal standpipe multiple   \n",
       "\n",
       "  waterpoint_type_group status_group  \n",
       "0    communal standpipe   functional  \n",
       "1    communal standpipe   functional  \n",
       "2    communal standpipe   functional  "
      ]
     },
     "execution_count": 23,
     "metadata": {},
     "output_type": "execute_result"
    }
   ],
   "source": [
    "#columns with similar attributes: we retain those with much information\n",
    "columns_to_keep = ['amount_tsh', 'date_recorded', 'funder', 'gps_height', 'installer',\n",
    "                   'longitude', 'latitude', 'basin', 'subvillage', 'region_code',\n",
    "                   'extraction_type', 'management_group', 'payment_type', 'water_quality',\n",
    "                   'quantity_group', 'source_type', 'source_class', 'waterpoint_type',\n",
    "                   'waterpoint_type_group', 'status_group']\n",
    "\n",
    "training_df = training_df.drop(columns=[col for col in training_df.columns if col not in columns_to_keep])\n",
    "\n",
    "training_df.head(3)"
   ]
  },
  {
   "cell_type": "code",
   "execution_count": 24,
   "id": "749f5b6c",
   "metadata": {},
   "outputs": [
    {
     "data": {
      "image/png": "[encoded data removed]",
      "text/plain": [
       "<Figure size 1000x750 with 1 Axes>"
      ]
     },
     "metadata": {},
     "output_type": "display_data"
    }
   ],
   "source": [
    "# Plot a bar graph to show the distribution of the target classes if they are evenly distributed or not\n",
    "fig, ax = plt.subplots(figsize=(10,7.5))\n",
    "sns.countplot(data=training_df, x=training_df.status_group,  ax=ax)\n",
    "ax.set_xticklabels(training_df.status_group.unique())\n",
    "plt.title('Class distribution')\n",
    "plt.show()"
   ]
  },
  {
   "cell_type": "markdown",
   "id": "06f77e74",
   "metadata": {},
   "source": [
    "Due to a class imbalance in the target variable, it may be necessary to employ sampling techniques such as oversampling or undersampling."
   ]
  },
  {
   "cell_type": "markdown",
   "id": "3aa33a69",
   "metadata": {},
   "source": [
    "**Lets plot the number of waterpoints recorded over time**"
   ]
  },
  {
   "cell_type": "code",
   "execution_count": 25,
   "id": "93e6035c",
   "metadata": {},
   "outputs": [
    {
     "data": {
      "image/png": "[encoded data removed]",
      "text/plain": [
       "<Figure size 1200x600 with 1 Axes>"
      ]
     },
     "metadata": {},
     "output_type": "display_data"
    }
   ],
   "source": [
    "import matplotlib.pyplot as plt\n",
    "import seaborn as sns\n",
    "\n",
    "# Group the data by date and count the number of records for each date\n",
    "training_df['date_recorded'] = pd.to_datetime(training_df['date_recorded'])\n",
    "waterpoints_count = training_df.groupby('date_recorded').size()\n",
    "\n",
    "# Plot the number of waterpoints recorded over time\n",
    "plt.figure(figsize=(12, 6))\n",
    "waterpoints_count.plot()\n",
    "plt.title('Number of Waterpoints Recorded over Time')\n",
    "plt.xlabel('Date')\n",
    "plt.ylabel('Count')\n",
    "plt.show()"
   ]
  },
  {
   "cell_type": "markdown",
   "id": "2e985b70",
   "metadata": {},
   "source": [
    "- This shows that there was an increase in the number of waterpoints from 2011 to 2014"
   ]
  },
  {
   "cell_type": "markdown",
   "id": "889520d5",
   "metadata": {},
   "source": [
    "**Lets analyze the distribution of waterpoint conditions over time**"
   ]
  },
  {
   "cell_type": "code",
   "execution_count": 26,
   "id": "8a44ca7d",
   "metadata": {},
   "outputs": [
    {
     "name": "stderr",
     "output_type": "stream",
     "text": [
      "No artists with labels found to put in legend.  Note that artists whose label start with an underscore are ignored when legend() is called with no argument.\n"
     ]
    },
    {
     "data": {
      "image/png": "[encoded data removed]",
      "text/plain": [
       "<Figure size 1200x600 with 1 Axes>"
      ]
     },
     "metadata": {},
     "output_type": "display_data"
    }
   ],
   "source": [
    "import seaborn as sns\n",
    "\n",
    "# Create a pivot table to calculate the count of each condition for each date\n",
    "condition_counts = training_df.pivot_table(index='date_recorded', columns='status_group', aggfunc='size')\n",
    "\n",
    "# Plot the distribution of waterpoint conditions over time\n",
    "plt.figure(figsize=(12, 6))\n",
    "sns.boxplot(data=condition_counts)\n",
    "plt.title('Distribution of Waterpoint Conditions over Time')\n",
    "plt.xlabel('Date')\n",
    "plt.ylabel('Count')\n",
    "plt.legend(title='Status Group')\n",
    "plt.show()"
   ]
  },
  {
   "cell_type": "markdown",
   "id": "ab0572f9",
   "metadata": {},
   "source": [
    "## **Lets build a classifier using one-hot encoding,training a Random Forest classifier, and evaluating its performance on a validation set:**"
   ]
  },
  {
   "cell_type": "code",
   "execution_count": 27,
   "id": "9d0c957c",
   "metadata": {},
   "outputs": [
    {
     "name": "stdout",
     "output_type": "stream",
     "text": [
      "Confusion Matrix:\n",
      "[[4578 1238  724]\n",
      " [ 357 5978   98]\n",
      " [ 798  499 5086]]\n",
      "\n",
      "Classification Report:\n",
      "                         precision    recall  f1-score   support\n",
      "\n",
      "             functional       0.80      0.70      0.75      6540\n",
      "functional needs repair       0.77      0.93      0.85      6433\n",
      "         non functional       0.86      0.80      0.83      6383\n",
      "\n",
      "               accuracy                           0.81     19356\n",
      "              macro avg       0.81      0.81      0.81     19356\n",
      "           weighted avg       0.81      0.81      0.81     19356\n",
      "\n"
     ]
    }
   ],
   "source": [
    "from imblearn.over_sampling import RandomOverSampler\n",
    "from sklearn.model_selection import train_test_split\n",
    "from sklearn.ensemble import RandomForestClassifier\n",
    "from sklearn.metrics import classification_report, confusion_matrix\n",
    "from sklearn.preprocessing import OneHotEncoder\n",
    "\n",
    "# Check class distribution and balance the data\n",
    "ros = RandomOverSampler(random_state=42)\n",
    "X_resampled, y_resampled = ros.fit_resample(X, y)\n",
    "\n",
    "# Preprocess categorical variables using one-hot encoding\n",
    "categorical_cols = ['region', 'extraction_type', 'water_quality', 'quantity', 'source']  # replace with the actual column names of your categorical features\n",
    "encoder = OneHotEncoder(handle_unknown='ignore')\n",
    "X_resampled_encoded = encoder.fit_transform(X_resampled[categorical_cols])\n",
    "\n",
    "# Combine encoded categorical features with numerical features\n",
    "numerical_cols = ['amount_tsh', 'gps_height', 'population', 'construction_year']  # replace with the actual column names of your numerical features\n",
    "X_resampled_encoded = X_resampled_encoded.toarray()  # convert to array\n",
    "X_resampled_final = np.concatenate((X_resampled_encoded, X_resampled[numerical_cols]), axis=1)\n",
    "\n",
    "# Split the data into training and validation sets\n",
    "X_train, X_val, y_train, y_val = train_test_split(X_resampled_final, y_resampled, test_size=0.2, random_state=42)\n",
    "\n",
    "# Instantiate the Random Forest classifier\n",
    "rf = RandomForestClassifier()\n",
    "\n",
    "# Fit the classifier to the training data\n",
    "rf.fit(X_train, y_train)\n",
    "\n",
    "# Make predictions on the validation data\n",
    "y_pred = rf.predict(X_val)\n",
    "\n",
    "# Print the confusion matrix\n",
    "print(\"Confusion Matrix:\")\n",
    "print(confusion_matrix(y_val, y_pred))\n",
    "\n",
    "# Print the classification report\n",
    "print(\"\\nClassification Report:\")\n",
    "print(classification_report(y_val, y_pred))\n"
   ]
  },
  {
   "cell_type": "code",
   "execution_count": 28,
   "id": "721d5abe",
   "metadata": {},
   "outputs": [
    {
     "name": "stdout",
     "output_type": "stream",
     "text": [
      "Accuracy: 0.8081215127092375\n"
     ]
    }
   ],
   "source": [
    "accuracy = accuracy_score(y_val, y_pred)\n",
    "print(\"Accuracy:\", accuracy)\n"
   ]
  },
  {
   "cell_type": "code",
   "execution_count": 29,
   "id": "6c66ce27",
   "metadata": {},
   "outputs": [
    {
     "data": {
      "image/png": "[encoded data removed]",
      "text/plain": [
       "<Figure size 640x480 with 2 Axes>"
      ]
     },
     "metadata": {},
     "output_type": "display_data"
    }
   ],
   "source": [
    "from sklearn.metrics import ConfusionMatrixDisplay\n",
    "\n",
    "# Calculate the confusion matrix\n",
    "cfn_matrix = confusion_matrix(y_val, y_pred)\n",
    "\n",
    "# Plot the matrix\n",
    "disp = ConfusionMatrixDisplay(confusion_matrix=cfn_matrix, display_labels=rf.classes_)\n",
    "disp.plot(cmap=plt.cm.Greens)\n",
    "plt.show()\n"
   ]
  },
  {
   "cell_type": "markdown",
   "id": "c9fbbc8e",
   "metadata": {},
   "source": [
    "\n",
    "- Precision: It measures the proportion of correctly predicted instances out of the total predicted instances for each class. Higher precision indicates fewer false positives.The model has good precision for all classes.\n",
    "- Recall: It measures the proportion of correctly predicted instances out of the total actual instances for each class. Higher recall indicates fewer false negatives. The model has reasonably good recall for all classes.\n",
    "- F1-score: It is the harmonic mean of precision and recall, providing a balance between the two metrics. The F1-scores are relatively high for all classes, indicating good overall performance.\n",
    "\n",
    "Overall, the model shows reasonably good performance with an accuracy of 80.84% and balanced metrics across the classes."
   ]
  },
  {
   "cell_type": "markdown",
   "id": "2f97a4ba",
   "metadata": {},
   "source": [
    "## **Lets instantiate XG Boost Classifier to to be trained and used for multiclass classification tasks**"
   ]
  },
  {
   "cell_type": "code",
   "execution_count": 30,
   "id": "b9690c37",
   "metadata": {},
   "outputs": [],
   "source": [
    "import xgboost as xgb\n",
    "from sklearn.metrics import accuracy_score\n",
    "\n",
    "xgb_model = xgb.XGBClassifier(\n",
    "    objective='multi:softmax',  # For multiclass classification\n",
    "    num_class=3,  # Number of classes in the target variable\n",
    "    max_depth=3,  # Maximum depth of each tree\n",
    "    learning_rate=0.1,  # Learning rate\n",
    "    n_estimators=100  # Number of trees\n",
    ")\n"
   ]
  },
  {
   "cell_type": "code",
   "execution_count": 31,
   "id": "4d7b351c",
   "metadata": {},
   "outputs": [
    {
     "data": {
      "text/plain": [
       "XGBClassifier(base_score=None, booster=None, callbacks=None,\n",
       "              colsample_bylevel=None, colsample_bynode=None,\n",
       "              colsample_bytree=None, early_stopping_rounds=None,\n",
       "              enable_categorical=False, eval_metric=None, feature_types=None,\n",
       "              gamma=None, gpu_id=None, grow_policy=None, importance_type=None,\n",
       "              interaction_constraints=None, learning_rate=0.1, max_bin=None,\n",
       "              max_cat_threshold=None, max_cat_to_onehot=None,\n",
       "              max_delta_step=None, max_depth=3, max_leaves=None,\n",
       "              min_child_weight=None, missing=nan, monotone_constraints=None,\n",
       "              n_estimators=100, n_jobs=None, num_class=3,\n",
       "              num_parallel_tree=None, objective='multi:softmax', ...)"
      ]
     },
     "execution_count": 31,
     "metadata": {},
     "output_type": "execute_result"
    }
   ],
   "source": [
    "from sklearn.preprocessing import LabelEncoder\n",
    "\n",
    "# Create an instance of LabelEncoder\n",
    "label_encoder = LabelEncoder()\n",
    "\n",
    "# Encode the string labels into numerical values\n",
    "y_train_encoded = label_encoder.fit_transform(y_train)\n",
    "\n",
    "# Now, y_train_encoded will contain numerical class labels that can be used for training the XGBoost model\n",
    "xgb_model.fit(X_train, y_train_encoded)\n"
   ]
  },
  {
   "cell_type": "code",
   "execution_count": 32,
   "id": "75502091",
   "metadata": {},
   "outputs": [
    {
     "name": "stdout",
     "output_type": "stream",
     "text": [
      "Accuracy: 0.8081215127092375\n"
     ]
    }
   ],
   "source": [
    "accuracy = accuracy_score(y_val, y_pred)\n",
    "print(\"Accuracy:\", accuracy)"
   ]
  },
  {
   "cell_type": "markdown",
   "id": "81434507",
   "metadata": {},
   "source": [
    "- The overall accuracy of 80.79% and the metrics from the classification report indicate that the XGBoost classifier performs reasonably well in predicting the classes of the waterpoints. However, it's important to consider the specific context and requirements of the problem to determine if the model's performance is satisfactory."
   ]
  },
  {
   "cell_type": "markdown",
   "id": "83f311cf",
   "metadata": {},
   "source": [
    "## **Demonstrating a basic pipeline for training a K-nearest neighbors classifier**"
   ]
  },
  {
   "cell_type": "code",
   "execution_count": 33,
   "id": "d8315ff4",
   "metadata": {},
   "outputs": [
    {
     "name": "stderr",
     "output_type": "stream",
     "text": [
      "/home/winnie/anaconda3/lib/python3.9/site-packages/sklearn/neighbors/_classification.py:228: FutureWarning: Unlike other reduction functions (e.g. `skew`, `kurtosis`), the default behavior of `mode` typically preserves the axis it acts along. In SciPy 1.11.0, this behavior will change: the default value of `keepdims` will become False, the `axis` over which the statistic is taken will be eliminated, and the value None will no longer be accepted. Set `keepdims` to True or False to avoid this warning.\n",
      "  mode, _ = stats.mode(_y[neigh_ind, k], axis=1)\n"
     ]
    },
    {
     "name": "stdout",
     "output_type": "stream",
     "text": [
      "Accuracy: 0.6723905723905724\n"
     ]
    }
   ],
   "source": [
    "from sklearn.preprocessing import StandardScaler\n",
    "from sklearn.neighbors import KNeighborsClassifier\n",
    "from sklearn.model_selection import train_test_split\n",
    "from sklearn.metrics import accuracy_score\n",
    "\n",
    "# Exclude 'date_recorded' feature from scaling\n",
    "features = ['amount_tsh', 'gps_height', 'longitude', 'latitude', 'num_private', 'region_code', 'district_code',\n",
    "            'population', 'construction_year']\n",
    "\n",
    "X = training_set_values[features]\n",
    "y = training_set_labels['status_group']\n",
    "\n",
    "# Split the data into training and testing sets\n",
    "X_train, X_test, y_train, y_test = train_test_split(X, y, test_size=0.2, random_state=42)\n",
    "\n",
    "# Scale the features\n",
    "scaler = StandardScaler()\n",
    "X_train = scaler.fit_transform(X_train)\n",
    "X_test = scaler.transform(X_test)\n",
    "\n",
    "# Train the KNN classifier\n",
    "knn = KNeighborsClassifier(n_neighbors=5)\n",
    "knn.fit(X_train, y_train)\n",
    "\n",
    "# Predict on the test set\n",
    "y_pred = knn.predict(X_test)\n",
    "\n",
    "# Calculate accuracy\n",
    "accuracy = accuracy_score(y_test, y_pred)\n",
    "print(\"Accuracy:\", accuracy)\n"
   ]
  },
  {
   "cell_type": "markdown",
   "id": "fbfc83d9",
   "metadata": {},
   "source": [
    "- The accuracy of 0.6724 suggests that the KNN classifier performed moderately well in predicting the status_group based on the provided features."
   ]
  },
  {
   "cell_type": "code",
   "execution_count": 34,
   "id": "28f4bce4",
   "metadata": {},
   "outputs": [
    {
     "data": {
      "image/png": "[encoded data removed]",
      "text/plain": [
       "<Figure size 800x600 with 1 Axes>"
      ]
     },
     "metadata": {},
     "output_type": "display_data"
    },
    {
     "name": "stderr",
     "output_type": "stream",
     "text": [
      "/home/winnie/anaconda3/lib/python3.9/site-packages/seaborn/_decorators.py:36: FutureWarning: Pass the following variable as a keyword arg: x. From version 0.12, the only valid positional argument will be `data`, and passing other arguments without an explicit keyword will result in an error or misinterpretation.\n",
      "  warnings.warn(\n"
     ]
    },
    {
     "data": {
      "image/png": "[encoded data removed]",
      "text/plain": [
       "<Figure size 800x600 with 1 Axes>"
      ]
     },
     "metadata": {},
     "output_type": "display_data"
    }
   ],
   "source": [
    "import matplotlib.pyplot as plt\n",
    "import seaborn as sns\n",
    "from sklearn.metrics import confusion_matrix\n",
    "\n",
    "# Create a confusion matrix\n",
    "cm = confusion_matrix(y_test, y_pred)\n",
    "\n",
    "# Plot the confusion matrix\n",
    "plt.figure(figsize=(8, 6))\n",
    "sns.heatmap(cm, annot=True, cmap=\"Blues\", fmt=\"d\", cbar=False)\n",
    "plt.xlabel(\"Predicted\")\n",
    "plt.ylabel(\"True\")\n",
    "plt.title(\"Confusion Matrix\")\n",
    "plt.show()\n",
    "\n",
    "# Bar plot of predicted target values\n",
    "plt.figure(figsize=(8, 6))\n",
    "sns.countplot(y_pred)\n",
    "plt.xlabel(\"Status Group\")\n",
    "plt.ylabel(\"Count\")\n",
    "plt.title(\"Predicted Status Group Distribution\")\n",
    "plt.show()"
   ]
  },
  {
   "cell_type": "markdown",
   "id": "a68160bb",
   "metadata": {},
   "source": [
    "## **RECOMMENDATIONS**\n",
    "\n",
    "Dealing with large and complex datasets like the Tanzania wells data, which consisted of 59,400 observations, can be challenging when using traditional data analysis methods like Excel. Machine Learning (ML) is well-suited for such datasets as it allows for the identification of patterns and relationships that might be overlooked through simple data analysis.\n",
    "\n",
    "The Tanzania well dataset comprised both categorical and numerical variables, making ML algorithms useful for uncovering patterns and relationships. For example, ML algorithms could identify that wells located in sparsely populated areas were rarely used and in need of repair. This kind of insight is crucial for identifying wells that require maintenance or repair.\n",
    "\n",
    "Prior to applying ML algorithms, data cleaning is crucial to ensure data quality, especially in large datasets. In the case of the Tanzania well dataset, unnecessary variables such as latitude, longitude, and district codes were dropped to streamline the model.\n",
    "\n",
    "The choice of ML algorithm depends on the characteristics of the dataset and the analysis goals. In the case of the Tanzania wells data, One hot coding ,RandomClassifier, XG Booster and K-Nearest Neighbors (KNN) were employed, with XG Booster classifier &  one hot coding achieving the highest accuracy score of 80.79%. This indicates that the model accurately predicted the classification levels.\n",
    "\n",
    "The analysis highlighted the importance of focusing on non-functional pumps or those in need of repair in data collection efforts. This information is crucial for planning resource allocation towards repairs and maintenance of the wells.\n",
    "\n",
    "   - Improve class imbalance: The confusion matrix and classification report show that the classifier is biased towards predicting the majority class (\"functional\") and performs poorly on the minority classes (\"functional needs repair\" and \"non-functional\"). To address this, consider using techniques such as oversampling or undersampling to balance the class distribution in the training data. This can help improve the model's performance on the minority classes.\n",
    "\n",
    "   - Feature engineering: Explore additional features or transformations that may provide more predictive power. You can try creating new features from existing ones or incorporating external data sources that could be relevant to the problem. Feature engineering can help the model capture more meaningful patterns and improve its predictive accuracy.\n",
    "\n",
    "   - Try different algorithms: Logistic regression may not be the best algorithm for this problem. Consider experimenting with other classification algorithms such as random forests, gradient boosting, or support vector machines. Each algorithm has its strengths and weaknesses, and different algorithms may perform better on this specific dataset.\n",
    "\n",
    "   - Hyperparameter tuning: Optimize the hyperparameters of your chosen algorithm(s) to improve their performance. Grid search or random search can be used to systematically explore different combinations of hyperparameters and identify the best configuration for your model. This can help improve the model's ability to generalize and make accurate predictions on unseen data.\n",
    "\n",
    "   - Cross-validation: Instead of relying solely on a single train-test split, consider implementing cross-validation. Cross-validation provides a more robust estimate of the model's performance by evaluating it on multiple splits of the data. It can help identify whether the model's performance is consistent across different subsets of the data and reduce the risk of overfitting.\n",
    "\n",
    "   - Collect more data: If possible, consider collecting more data to increase the size of your training set. More data can help the model learn more diverse patterns and improve its generalization ability. Additionally, collecting data specifically targeted at addressing the class imbalance issue can be beneficial.\n",
    "\n",
    "   - Domain knowledge and data exploration: Gain a deeper understanding of the domain and the factors that influence the functionality of waterpoints. Explore the data further to identify potential data quality issues, missing values, or outliers that might be affecting the model's performance. Investigate the relationship between the features and the target variable to gain insights that can guide feature selection and engineering efforts.\n",
    "\n"
   ]
  },
  {
   "cell_type": "markdown",
   "id": "ced94286",
   "metadata": {},
   "source": [
    "## **CONCLUSION/SUGGESTIONS**\n",
    "\n",
    "   - Collect More Data: If possible, consider collecting more data, especially for the minority classes, to provide a more representative and balanced dataset for training the model.\n",
    "\n",
    "\n",
    "   - Overall, improve the performance of the model by combining data preprocessing techniques, feature engineering, model selection, and careful evaluation.\n",
    "   \n",
    "\n",
    "   - Regular iteration and experimentation with different approaches are essential to achieve better results in predicting the status of water points in Tanzania.\n",
    "\n"
   ]
  },
  {
   "cell_type": "code",
   "execution_count": null,
   "id": "c1b31bae",
   "metadata": {},
   "outputs": [],
   "source": []
  }
 ],
 "metadata": {
  "kernelspec": {
   "display_name": "Python 3 (ipykernel)",
   "language": "python",
   "name": "python3"
  },
  "language_info": {
   "codemirror_mode": {
    "name": "ipython",
    "version": 3
   },
   "file_extension": ".py",
   "mimetype": "text/x-python",
   "name": "python",
   "nbconvert_exporter": "python",
   "pygments_lexer": "ipython3",
   "version": "3.9.13"
  }
 },
 "nbformat": 4,
 "nbformat_minor": 5
}
